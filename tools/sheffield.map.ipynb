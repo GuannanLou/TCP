{
 "cells": [
  {
   "cell_type": "code",
   "execution_count": 1,
   "metadata": {},
   "outputs": [],
   "source": [
    "import carla"
   ]
  },
  {
   "cell_type": "code",
   "execution_count": 2,
   "metadata": {},
   "outputs": [
    {
     "name": "stderr",
     "output_type": "stream",
     "text": [
      "pj_obj_create: Cannot find proj.db\n",
      "pj_obj_create: Cannot find proj.db\n",
      "pj_obj_create: Cannot find proj.db\n",
      "Warning: Discarding unknown compound 'cycleway.track' in type 'cycleway.track|highway.unclassified' (first occurence for edge '4387770').\n",
      "Warning: Discarding unknown compound 'cycleway.shared_lane' in type 'cycleway.shared_lane|highway.unclassified' (first occurence for edge '4390129').\n",
      "Warning: Discarding unknown compound 'cycleway.share_busway' in type 'cycleway.share_busway|highway.tertiary' (first occurence for edge '87214063').\n",
      "Warning: Discarding unusable type 'railway.platform' (first occurence for edge '174329360').\n",
      "Warning: Discarding unknown compound 'cycleway.crossing' in type 'cycleway.crossing|highway.cycleway' (first occurence for edge '490292167').\n",
      "Warning: Discarding unknown compound 'cycleway.lane' in type 'cycleway.lane|highway.tertiary' (first occurence for edge '955644950').\n",
      "Warning: Not joining junctions 163474362,1886433090,1886433111,1886433310,1886433453,21027018,21027020,21027024,8872068186,8872068187 (5 incoming edges).\n",
      "Warning: Not joining junctions 1770659109,26787761,26787765 (parallel incoming -165525533#0,-4392099#0).\n",
      "pj_obj_create: Cannot find proj.db\n",
      "Warning: Found sharp turn with radius 5.78 at the start of edge '-9718740#1'.\n",
      "Warning: Found angle of 149.18 degrees at edge '964388613#1', segment 1.\n",
      "Warning: Found sharp turn with radius 5.78 at the end of edge '9718740#0'.\n",
      "Warning: Could not write OpenDRIVE geoReference. Only unshifted Coordinate systems are supported (center_map and use_offsets need to be set to False)\n",
      "Warning: Could not compute smooth shape for edge '-162890286#5'.\n",
      "Warning: Uneven stop line at lane '174199237#0_1' (dist=0.12) cannot be represented in OpenDRIVE.\n",
      "Warning: Could not compute smooth shape for edge '4387906#2'.\n",
      "Warning: Could not compute smooth shape for edge '4387907#0'.\n",
      "Warning: Uneven stop line at lane '964388603_1' (dist=0.26) cannot be represented in OpenDRIVE.\n",
      "Warning: Uneven stop line at lane '964388603_2' (dist=0.51) cannot be represented in OpenDRIVE.\n",
      "Warning: Uneven stop line at lane '964388604_1' (dist=0.19) cannot be represented in OpenDRIVE.\n",
      "Warning: Uneven stop line at lane '964388604_2' (dist=0.39) cannot be represented in OpenDRIVE.\n",
      "Warning: Uneven stop line at lane '964388605_1' (dist=0.30) cannot be represented in OpenDRIVE.\n",
      "Warning: Uneven stop line at lane '964388605_2' (dist=0.60) cannot be represented in OpenDRIVE.\n",
      "Warning: Could not compute smooth shape from lane '964388608_2' to lane '964388604_2'. Use option 'junctions.scurve-stretch' or increase radius of junction '163474362' to fix this.\n",
      "Warning: Could not compute smooth shape from lane '4390086_0' to lane '1168236952_0'. Use option 'junctions.scurve-stretch' or increase radius of junction '1886498507' to fix this.\n",
      "Warning: Could not compute smooth shape from lane '14733372#0_1' to lane '14733374_1'. Use option 'junctions.scurve-stretch' or increase radius of junction '21754337' to fix this.\n",
      "Warning: Could not compute smooth shape from lane '4387906#2_0' to lane '4387908#0_0'. Use option 'junctions.scurve-stretch' or increase radius of junction '26787766' to fix this.\n",
      "Warning: Could not compute smooth shape from lane '4387907#0_1' to lane '-730153618_1'. Use option 'junctions.scurve-stretch' or increase radius of junction 'cluster_26787767_634521068_8920333448_8920333449' to fix this.\n"
     ]
    }
   ],
   "source": [
    "# Read the .osm data\n",
    "f = open(\"./map/sheffield_map.osm\", 'r')\n",
    "osm_data = f.read()\n",
    "f.close()\n",
    "\n",
    "# Define the desired settings. In this case, default values.\n",
    "settings = carla.Osm2OdrSettings()\n",
    "# Convert to .xodr\n",
    "xodr_data = carla.Osm2Odr.convert(osm_data, settings)\n",
    "\n",
    "# save opendrive file\n",
    "f = open(\"./map/sheffield_map.xodr\", 'w')\n",
    "f.write(xodr_data)\n",
    "f.close()"
   ]
  }
 ],
 "metadata": {
  "kernelspec": {
   "display_name": "interfuser",
   "language": "python",
   "name": "python3"
  },
  "language_info": {
   "codemirror_mode": {
    "name": "ipython",
    "version": 3
   },
   "file_extension": ".py",
   "mimetype": "text/x-python",
   "name": "python",
   "nbconvert_exporter": "python",
   "pygments_lexer": "ipython3",
   "version": "3.7.10"
  }
 },
 "nbformat": 4,
 "nbformat_minor": 2
}
