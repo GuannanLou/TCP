{
 "cells": [
  {
   "cell_type": "code",
   "execution_count": 53,
   "metadata": {},
   "outputs": [],
   "source": [
    "import numpy as np\n",
    "import pandas as pd\n",
    "import os\n",
    "from fitness import get_fitness\n",
    "from models.Kriging import Kriging\n",
    "from models.PR import Polynomial_Regression as PR\n",
    "# from models.RBF import Model as RBF"
   ]
  },
  {
   "cell_type": "code",
   "execution_count": 54,
   "metadata": {},
   "outputs": [],
   "source": [
    "#Curve Road\n",
    "data_folders = [\n",
    "    # '../data/routes_short_2023-05-12|17:04:09/', #814\n",
    "    # '../data/routes_short_2023-05-26|17:51:48/', #721\n",
    "    '../data/routes_short_2023-06-06|18:33:36/', #916 95% Route Finish Threshold\n",
    "    '../data/routes_short_2023-06-07|14:26:32/', #727 95% Route Finish Threshold\n",
    "]"
   ]
  },
  {
   "cell_type": "code",
   "execution_count": 55,
   "metadata": {},
   "outputs": [
    {
     "name": "stdout",
     "output_type": "stream",
     "text": [
      "(1635, 14)\n"
     ]
    }
   ],
   "source": [
    "scenario_header = [\"cloudiness\",\n",
    "                   \"precipitation\",\n",
    "                   \"precipitation_deposits\",\n",
    "                   \"wind_intensity\",\n",
    "                   \"sun_azimuth_angle\",\n",
    "                   \"sun_altitude_angle\",\n",
    "                   \"fog_density\",\n",
    "                   \"wetness\",\n",
    "                   \"fog_falloff\",\n",
    "                   \"vehicle_infront\", \n",
    "                   \"vehicle_opposite\", \n",
    "                   \"vehicle_side\",\n",
    "                   \"start_offset\",\n",
    "                   \"end_offset\"]\n",
    "\n",
    "scenarios = pd.read_csv(data_folders[0]+'scenario.csv',names=scenario_header)\n",
    "for i in range(1, len(data_folders)):\n",
    "    scenarios = pd.concat([scenarios, pd.read_csv(data_folders[i]+'scenario.csv',names=scenario_header)])\n",
    "print(scenarios.shape)"
   ]
  },
  {
   "cell_type": "code",
   "execution_count": 56,
   "metadata": {},
   "outputs": [
    {
     "name": "stdout",
     "output_type": "stream",
     "text": [
      "(1635, 4)\n"
     ]
    }
   ],
   "source": [
    "select_criterions = [\"RouteCompletionTest\", \n",
    "                     \"CollisionTest\", \n",
    "                     \"OutsideRouteLanesTest\", \n",
    "                     \"Timeout\"]\n",
    "\n",
    "fitness = get_fitness(data_folders[0])\n",
    "for i in range(1, len(data_folders)):\n",
    "    fitness = pd.concat([fitness, get_fitness(data_folders[i])])\n",
    "\n",
    "fitness = fitness[select_criterions]\n",
    "print(fitness.shape)"
   ]
  },
  {
   "cell_type": "code",
   "execution_count": 57,
   "metadata": {},
   "outputs": [
    {
     "data": {
      "image/png": "[encoded data removed]",
      "text/plain": [
       "<Figure size 432x288 with 2 Axes>"
      ]
     },
     "metadata": {
      "needs_background": "light"
     },
     "output_type": "display_data"
    }
   ],
   "source": [
    "import matplotlib as mpl\n",
    "import matplotlib.pyplot as plt\n",
    "\n",
    "cmap = mpl.cm.RdBu\n",
    "colors = cmap(range(3,253,25))\n",
    "\n",
    "stack_hist_continuous = np.concatenate([\n",
    "    [np.histogram(fitness['RouteCompletionTest'],   range=(0,1), bins=10)[0]],\n",
    "    [np.histogram(fitness['CollisionTest'],         range=(0,1), bins=10)[0]],\n",
    "    [np.histogram(fitness['OutsideRouteLanesTest'], range=(0,1), bins=10)[0]],\n",
    "    [np.histogram(fitness['Timeout'],               range=(0,1), bins=10)[0]],\n",
    "])\n",
    "\n",
    "left = np.zeros(4)\n",
    "for i in range(10):\n",
    "    plt.barh(y = np.arange(4), width = stack_hist_continuous[:,i], left=left, color = colors[i], height=0.6)\n",
    "    left += stack_hist_continuous[:,i]\n",
    "\n",
    "plt.yticks(range(4), select_criterions)\n",
    "cbar = plt.colorbar(mpl.cm.ScalarMappable(cmap=cmap), ticklocation='right',values=range(10), ticks=[0, 9])\n",
    "cbar.ax.set_yticklabels(['Dangerous', 'Safe'])  # vertically oriented colorbar\n",
    "\n",
    "plt.title('Distribution of test case random generatred')\n",
    "plt.show()"
   ]
  },
  {
   "cell_type": "code",
   "execution_count": 50,
   "metadata": {},
   "outputs": [
    {
     "name": "stdout",
     "output_type": "stream",
     "text": [
      "0.8529474492921119\n",
      "0.935016716789923\n",
      "0.495\n",
      "0.705\n"
     ]
    }
   ],
   "source": [
    "from sklearn.ensemble import RandomForestRegressor, HistGradientBoostingRegressor\n",
    "from sklearn.metrics import explained_variance_score\n",
    "from sklearn.model_selection import train_test_split\n",
    "from sklearn.metrics import f1_score\n",
    "import joblib\n",
    "seed = 42\n",
    "\n",
    "certion_label = \"RouteCompletionTest\"\n",
    "X = scenarios.to_numpy()\n",
    "y = fitness[certion_label].to_numpy()\n",
    "\n",
    "X_train, X_test, y_train, y_test = train_test_split(X, y, test_size=0.33, random_state=seed)\n",
    "\n",
    "rgs = RandomForestRegressor(max_depth=7, criterion='friedman_mse', random_state=seed)\n",
    "# rgs = HistGradientBoostingRegressor()\n",
    "rgs.fit(X_train, y_train)\n",
    "\n",
    "# rgs = PR(data=X_train, label=y_train, degree=2)\n",
    "# rgs = Kriging(data=X_train, label=y_train)\n",
    "\n",
    "res = rgs.predict(X_train)\n",
    "# res = rgs.pol_reg.predict(rgs.poly_reg.fit_transform(X_test))\n",
    "res[res>1]=1\n",
    "res[res<0]=0\n",
    "\n",
    "print(explained_variance_score(y_train, res)) \n",
    "print(np.corrcoef(y_train, res)[0,1])\n",
    "\n",
    "\n",
    "res = rgs.predict(X_test)\n",
    "# res = rgs.pol_reg.predict(rgs.poly_reg.fit_transform(X_test))\n",
    "res[res>1]=1\n",
    "res[res<0]=0\n",
    "\n",
    "print(explained_variance_score(y_test, res).round(3)) \n",
    "print(np.corrcoef(y_test, res)[0,1].round(3))"
   ]
  },
  {
   "cell_type": "code",
   "execution_count": 63,
   "metadata": {},
   "outputs": [
    {
     "name": "stdout",
     "output_type": "stream",
     "text": [
      "max_depth: 1\n",
      "                      | Train EVS | Test EVS\n",
      "---------------------------------------------\n",
      "  RouteCompletionTest |  1.00000  |  -0.03653 \n",
      "        CollisionTest |  1.00000  |  0.39059 \n",
      "OutsideRouteLanesTest |  1.00000  |  0.11582 \n",
      "              Timeout |  1.00000  |  -0.21292 \n",
      "---------------------------------------------\n",
      "                  SUM |  1.00000  |  0.06424 \n",
      "\n",
      "\n"
     ]
    },
    {
     "data": {
      "image/png": "[encoded data removed]",
      "text/plain": [
       "<Figure size 432x288 with 2 Axes>"
      ]
     },
     "metadata": {
      "needs_background": "light"
     },
     "output_type": "display_data"
    }
   ],
   "source": [
    "from sklearn.ensemble import RandomForestRegressor, HistGradientBoostingRegressor\n",
    "from sklearn.metrics import explained_variance_score\n",
    "from sklearn.model_selection import train_test_split\n",
    "from sklearn.metrics import f1_score\n",
    "import joblib\n",
    "\n",
    "seed = 42\n",
    "\n",
    "max_f1_sum = 0\n",
    "# for depth in range(1,30,3):\n",
    "for depth in range(1,2):\n",
    "\n",
    "    print(\"max_depth:\",depth)\n",
    "    print(\"                      | Train EVS | Test EVS\")\n",
    "    print(\"---------------------------------------------\")\n",
    "    res_sum = [0,0]\n",
    "    stack_hist_pred = []\n",
    "    stack_hist_test = []\n",
    "    for certion_label in [\"RouteCompletionTest\", \"CollisionTest\", \"OutsideRouteLanesTest\", \"Timeout\"]:\n",
    "        X = scenarios.to_numpy()\n",
    "        y = fitness[certion_label].to_numpy()\n",
    "\n",
    "        X_train, X_test, y_train, y_test = train_test_split(X, y, test_size=0.33, random_state=seed)\n",
    "\n",
    "        # rgs = RandomForestRegressor(max_depth=7, criterion='friedman_mse', random_state=seed)\n",
    "        # rgs = HistGradientBoostingRegressor()\n",
    "        # rgs.fit(X_train, y_train)\n",
    "\n",
    "        # rgs = PR(data=X_train, label=y_train, degree=2)\n",
    "        rgs = Kriging(data=X_train, label=y_train)\n",
    "\n",
    "        pred_train = rgs.predict(X_train)\n",
    "        pred_test  = rgs.predict(X_test)\n",
    "        pred_train[pred_train>1] = 1\n",
    "        pred_train[pred_train<0] = 0\n",
    "        pred_test[pred_test>1] = 1\n",
    "        pred_test[pred_test<0] = 0\n",
    "\n",
    "        train_score = explained_variance_score(y_train, pred_train) \n",
    "        test_score = explained_variance_score(y_test, pred_test) \n",
    "        # train_score = (sum(pred_train - y_train)**2/y_train.shape[0])**0.5\n",
    "        # test_score = (sum(pred_test - y_test)**2/y_test.shape[0])**0.5\n",
    "\n",
    "        print(\"{:>21} |  {:0<7}  |  {:0<7} \".format(\n",
    "            certion_label,\n",
    "            round(train_score, 5), \n",
    "            round(test_score, 5)\n",
    "        ))\n",
    "\n",
    "        if certion_label == 'RouteCompletionTest':\n",
    "            stack_hist_pred = np.array([np.histogram(pred_test, range=(0,1), bins=10)[0]])\n",
    "            stack_hist_test = np.array([np.histogram(y_test, range=(0,1), bins=10)[0]])\n",
    "        else:\n",
    "            stack_hist_pred = np.concatenate([stack_hist_pred, [np.histogram(pred_test, range=(0,1), bins=10)[0]]])\n",
    "            stack_hist_test = np.concatenate([stack_hist_test, [np.histogram(y_test, range=(0,1), bins=10)[0]]])\n",
    "        # print(rfr.predict(X_test))\n",
    "        # joblib.dump(clf, 'models/RF-{}.pkl'.format(certion_label))\n",
    "\n",
    "\n",
    "        res_sum[0] = res_sum[0] + train_score\n",
    "        res_sum[1] = res_sum[1] + test_score\n",
    "    print(\"---------------------------------------------\")\n",
    "    print(\"                  SUM |  {:0<7}  |  {:0<7} \".format(round(res_sum[0]/4,5), round(res_sum[1]/4,5)))\n",
    "    print()\n",
    "    print()\n",
    "\n",
    "    left = np.zeros(4)\n",
    "    for i in range(10):\n",
    "        plt.barh(y = np.arange(4)+0.2, width = stack_hist_pred[:,i], left=left, color = colors[i], height=0.3)\n",
    "        left += stack_hist_pred[:,i]\n",
    "\n",
    "    left = np.zeros(4)\n",
    "    for i in range(10):\n",
    "        plt.barh(y = np.arange(4)-0.2, width = stack_hist_test[:,i], left=left, color = colors[i], height=0.3)\n",
    "        left += stack_hist_test[:,i]\n",
    "\n",
    "\n",
    "    plt.yticks(range(4), select_criterions)\n",
    "    cbar = plt.colorbar(mpl.cm.ScalarMappable(cmap=cmap), ticklocation='right',values=range(10), ticks=[0, 9])\n",
    "    cbar.ax.set_yticklabels(['Dangerous', 'Safe'])  # vertically oriented colorbar\n",
    "\n",
    "    plt.title(\"max_depth: {}\".format(depth))\n",
    "    plt.show()\n"
   ]
  },
  {
   "cell_type": "code",
   "execution_count": 64,
   "metadata": {},
   "outputs": [],
   "source": [
    "from sklearn.ensemble import RandomForestRegressor, HistGradientBoostingRegressor\n",
    "from sklearn.model_selection import train_test_split\n",
    "from sklearn.metrics import f1_score\n",
    "import joblib\n",
    "\n",
    "seed = 42\n",
    "\n",
    "max_f1_sum = 0\n",
    "\n",
    "i = 1\n",
    "\n",
    "for certion_label in [\"RouteCompletionTest\", \"CollisionTest\", \"OutsideRouteLanesTest\", \"Timeout\"]:\n",
    "    X = scenarios.to_numpy()\n",
    "    y = fitness[certion_label].to_numpy()\n",
    "\n",
    "    X_train, X_test, y_train, y_test = train_test_split(X, y, test_size=0.33, random_state=seed)\n",
    "\n",
    "    # rgs = RandomForestRegressor(max_depth=i, random_state=seed)\n",
    "    # rgs = HistGradientBoostingRegressor()\n",
    "    # rgs.fit(X_train, y_train)\n",
    "\n",
    "    # rgs = PR(data=X_train, label=y_train, degree=2)\n",
    "    rgs = Kriging(data=X_train, label=y_train)\n",
    "\n",
    "\n",
    "    joblib.dump(rgs, 'models/regression-Kriging-{}.pkl'.format(certion_label))"
   ]
  },
  {
   "cell_type": "code",
   "execution_count": 65,
   "metadata": {},
   "outputs": [],
   "source": [
    "model_path = '../tools/models/regression-'\n",
    "surrogate_models = {\"RouteCompletionTest\"  : joblib.load(model_path+'Kriging-RouteCompletionTest.pkl'), \n",
    "                    \"CollisionTest\"        : joblib.load(model_path+'Kriging-CollisionTest.pkl'), \n",
    "                    \"OutsideRouteLanesTest\": joblib.load(model_path+'Kriging-OutsideRouteLanesTest.pkl'), \n",
    "                    \"Timeout\"              : joblib.load(model_path+'Kriging-Timeout.pkl')}\n",
    "\n",
    "X = scenarios.to_numpy()\n",
    "y = fitness[certion_label].to_numpy()\n"
   ]
  }
 ],
 "metadata": {
  "kernelspec": {
   "display_name": "TCP",
   "language": "python",
   "name": "python3"
  },
  "language_info": {
   "codemirror_mode": {
    "name": "ipython",
    "version": 3
   },
   "file_extension": ".py",
   "mimetype": "text/x-python",
   "name": "python",
   "nbconvert_exporter": "python",
   "pygments_lexer": "ipython3",
   "version": "3.7.10"
  },
  "orig_nbformat": 4
 },
 "nbformat": 4,
 "nbformat_minor": 2
}
