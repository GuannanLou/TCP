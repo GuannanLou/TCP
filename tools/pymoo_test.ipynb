{
 "cells": [
  {
   "cell_type": "code",
   "execution_count": null,
   "metadata": {},
   "outputs": [],
   "source": [
    "import numpy as np\n",
    "\n",
    "from pymoo.algorithms.moo.nsga2 import NSGA2\n",
    "from pymoo.core.problem import ElementwiseProblem\n",
    "from pymoo.optimize import minimize\n",
    "from pymoo.visualization.scatter import Scatter\n",
    "\n",
    "\n",
    "\n",
    "class CustomizedProblem(ElementwiseProblem):\n",
    "    def __init__(self, fitness_file, fitness_generator):\n",
    "        super().__init__(n_var=14,\n",
    "                         n_obj=3,\n",
    "                         xl=0,\n",
    "                         xu=1)\n",
    "        self.file_name = fitness_file\n",
    "        self.fitness_generator =fitness_generator\n",
    "\n",
    "    def _evaluate(self, x, out, *args, **kwargs):\n",
    "        self.fitness_generator.run_one_case(x)\n",
    "        result = []\n",
    "        with open(self.file_name, 'r') as file:\n",
    "            data = [float(item) for item in file.readlines()[-1].strip().split(',')]\n",
    "            result = [data[2],data[6],data[14]]\n",
    "            # [2,6,14]\n",
    "        out['F'] = result\n"
   ]
  }
 ],
 "metadata": {
  "kernelspec": {
   "display_name": "TCP",
   "language": "python",
   "name": "python3"
  },
  "language_info": {
   "name": "python",
   "version": "3.7.10"
  },
  "orig_nbformat": 4
 },
 "nbformat": 4,
 "nbformat_minor": 2
}
