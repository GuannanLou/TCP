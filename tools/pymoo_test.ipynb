{
 "cells": [
  {
   "cell_type": "code",
   "execution_count": 14,
   "metadata": {},
   "outputs": [],
   "source": [
    "import numpy as np\n",
    "\n",
    "from pymoo.algorithms.moo.nsga2 import NSGA2\n",
    "from pymoo.core.problem import ElementwiseProblem\n",
    "from pymoo.optimize import minimize\n",
    "from pymoo.visualization.scatter import Scatter\n",
    "\n",
    "\n",
    "def fitness(x):\n",
    "    f1 = 100 * (x[0]**2 + x[1]**2)\n",
    "    f2 = (x[0]-1)**2 + x[1]**2\n",
    "    # print(1)\n",
    "    return [f1, f2]\n",
    "\n",
    "class CustomizedProblem(ElementwiseProblem):\n",
    "    def __init__(self):\n",
    "        super().__init__(n_var=14,\n",
    "                         n_obj=2,\n",
    "                         xl=0,\n",
    "                         xu=1)\n",
    "\n",
    "    def _evaluate(self, x, out, *args, **kwargs):\n",
    "        result = fitness(x)\n",
    "\n",
    "        out['F'] = result\n"
   ]
  },
  {
   "cell_type": "code",
   "execution_count": 15,
   "metadata": {},
   "outputs": [
    {
     "name": "stdout",
     "output_type": "stream",
     "text": [
      "==========================================================\n",
      "n_gen  |  n_eval  | n_nds  |      eps      |   indicator  \n",
      "==========================================================\n",
      "     1 |       40 |      9 |             - |             -\n",
      "     2 |       50 |     11 |  0.0068455228 |         ideal\n",
      "     3 |       60 |     12 |  0.000000E+00 |             f\n",
      "     4 |       70 |     14 |  0.0190927589 |         ideal\n",
      "     5 |       80 |     18 |  0.0006109631 |             f\n",
      "     6 |       90 |     21 |  0.0022834945 |             f\n",
      "     7 |      100 |     26 |  0.0070370270 |             f\n",
      "     8 |      110 |     27 |  0.0016376880 |             f\n",
      "     9 |      120 |     25 |  0.0036039084 |             f\n",
      "    10 |      130 |     28 |  0.0035291454 |         ideal\n",
      "    11 |      140 |     31 |  0.0032418057 |             f\n",
      "    12 |      150 |     32 |  0.0494349421 |         nadir\n",
      "    13 |      160 |     34 |  0.0033466791 |             f\n",
      "    14 |      170 |     33 |  0.0078053627 |         ideal\n",
      "    15 |      180 |     34 |  0.0002497594 |             f\n",
      "    16 |      190 |     36 |  0.0067615707 |         ideal\n",
      "    17 |      200 |     38 |  0.0004087119 |             f\n",
      "    18 |      210 |     40 |  0.0016387723 |             f\n",
      "    19 |      220 |     40 |  0.0031860903 |             f\n",
      "    20 |      230 |     40 |  0.0037231926 |             f\n",
      "    21 |      240 |     40 |  0.0014289957 |             f\n",
      "    22 |      250 |     40 |  0.0044839937 |         ideal\n",
      "    23 |      260 |     40 |  0.0060467971 |         ideal\n",
      "    24 |      270 |     40 |  0.0033378880 |             f\n",
      "    25 |      280 |     40 |  0.0009148032 |             f\n",
      "    26 |      290 |     40 |  0.0017956463 |             f\n",
      "    27 |      300 |     40 |  0.0029322777 |             f\n",
      "    28 |      310 |     40 |  0.0001816048 |             f\n",
      "    29 |      320 |     40 |  0.0011511458 |             f\n",
      "    30 |      330 |     40 |  0.0034562985 |             f\n",
      "    31 |      340 |     40 |  0.0005515229 |             f\n",
      "    32 |      350 |     40 |  0.0007117370 |             f\n",
      "    33 |      360 |     40 |  0.0208236901 |         nadir\n",
      "    34 |      370 |     40 |  0.0005386812 |             f\n",
      "    35 |      380 |     40 |  0.0010639601 |             f\n",
      "    36 |      390 |     40 |  0.0012789594 |             f\n",
      "    37 |      400 |     40 |  0.0112959456 |         nadir\n",
      "    38 |      410 |     40 |  0.0007802329 |             f\n",
      "    39 |      420 |     40 |  0.0322965938 |         nadir\n",
      "    40 |      430 |     40 |  0.0008063326 |             f\n"
     ]
    }
   ],
   "source": [
    "from pymoo.core.problem import ElementwiseProblem\n",
    "from pymoo.algorithms.moo.nsga2 import NSGA2\n",
    "from pymoo.operators.crossover.sbx import SBX\n",
    "from pymoo.operators.mutation.pm import PM\n",
    "from pymoo.operators.sampling.rnd import FloatRandomSampling\n",
    "from pymoo.termination import get_termination\n",
    "from pymoo.optimize import minimize\n",
    "\n",
    "\n",
    "problem = CustomizedProblem()\n",
    "algorithm = NSGA2(\n",
    "    pop_size=40,\n",
    "    n_offsprings=10,\n",
    "    sampling=FloatRandomSampling(),\n",
    "    crossover=SBX(prob=0.9, eta=15),\n",
    "    mutation=PM(eta=20),\n",
    "    eliminate_duplicates=True\n",
    ")\n",
    "termination = get_termination(\"n_gen\", 40)\n",
    "\n",
    "res = minimize(problem,\n",
    "    algorithm,\n",
    "    termination,\n",
    "    seed=1,\n",
    "    save_history=True,\n",
    "    verbose=True)\n",
    "\n",
    "X = res.X\n",
    "F = res.F"
   ]
  },
  {
   "cell_type": "code",
   "execution_count": 17,
   "metadata": {},
   "outputs": [
    {
     "data": {
      "text/plain": [
       "(40, 14)"
      ]
     },
     "execution_count": 17,
     "metadata": {},
     "output_type": "execute_result"
    }
   ],
   "source": [
    "res.X.shape"
   ]
  },
  {
   "cell_type": "code",
   "execution_count": 20,
   "metadata": {},
   "outputs": [
    {
     "data": {
      "text/plain": [
       "array([[8.13945281e-02, 9.85540892e-01],\n",
       "       [9.41069457e+01, 1.74486253e-03],\n",
       "       [2.70468838e+01, 2.31229856e-01],\n",
       "       [1.39396795e+01, 3.93084771e-01],\n",
       "       [5.07665230e+00, 6.23338776e-01],\n",
       "       [7.43777147e+00, 5.31282270e-01],\n",
       "       [1.96703847e+01, 3.11049952e-01],\n",
       "       [3.94525114e+01, 1.38397695e-01],\n",
       "       [1.96425226e+01, 3.11400742e-01],\n",
       "       [5.94343404e+01, 5.82466262e-02],\n",
       "       [4.77925612e+01, 9.60413277e-02],\n",
       "       [8.91680423e+00, 4.94505279e-01],\n",
       "       [5.39562151e+01, 7.66904238e-02],\n",
       "       [6.43332125e+01, 4.45631241e-02],\n",
       "       [1.09421235e+01, 4.48899914e-01],\n",
       "       [1.70748167e+00, 7.58493586e-01],\n",
       "       [3.50538125e+00, 6.62568291e-01],\n",
       "       [8.04853110e+01, 1.56203991e-02],\n",
       "       [8.95525173e-01, 8.23151108e-01],\n",
       "       [1.26061149e+01, 4.27222137e-01],\n",
       "       [3.53402785e+01, 1.65720746e-01],\n",
       "       [1.03705921e-01, 9.53767631e-01],\n",
       "       [7.43849137e+01, 1.93402624e-02],\n",
       "       [2.94373736e+01, 2.09924057e-01],\n",
       "       [6.94323757e+01, 2.84796337e-02],\n",
       "       [2.83345639e-01, 9.05800920e-01],\n",
       "       [3.83905371e+01, 1.45478957e-01],\n",
       "       [6.85991760e+01, 4.18677075e-02],\n",
       "       [9.11101867e+01, 3.23163259e-03],\n",
       "       [8.81849064e+01, 8.97933086e-03],\n",
       "       [3.09770644e+01, 1.97290176e-01],\n",
       "       [2.48053060e+00, 7.38638018e-01],\n",
       "       [7.36038345e+01, 2.05917981e-02],\n",
       "       [5.07841298e+01, 8.34828455e-02],\n",
       "       [8.33928193e+01, 1.30437406e-02],\n",
       "       [8.52766823e+01, 1.13070913e-02],\n",
       "       [2.68663041e+00, 6.99073993e-01],\n",
       "       [5.28721335e-01, 8.64980338e-01],\n",
       "       [7.51645953e-01, 8.39744812e-01],\n",
       "       [3.29583381e+01, 1.82300742e-01]])"
      ]
     },
     "execution_count": 20,
     "metadata": {},
     "output_type": "execute_result"
    }
   ],
   "source": [
    "res.F"
   ]
  },
  {
   "cell_type": "code",
   "execution_count": 22,
   "metadata": {},
   "outputs": [
    {
     "data": {
      "image/png": "[encoded data removed]",
      "text/plain": [
       "<Figure size 504x360 with 1 Axes>"
      ]
     },
     "metadata": {
      "needs_background": "light"
     },
     "output_type": "display_data"
    }
   ],
   "source": [
    "import matplotlib.pyplot as plt\n",
    "\n",
    "plt.figure(figsize=(7, 5))\n",
    "plt.scatter(F[:, 0], F[:, 1], s=30, facecolors='none', edgecolors='blue')\n",
    "plt.title(\"Objective Space\")\n",
    "plt.show()"
   ]
  }
 ],
 "metadata": {
  "kernelspec": {
   "display_name": "TCP",
   "language": "python",
   "name": "python3"
  },
  "language_info": {
   "codemirror_mode": {
    "name": "ipython",
    "version": 3
   },
   "file_extension": ".py",
   "mimetype": "text/x-python",
   "name": "python",
   "nbconvert_exporter": "python",
   "pygments_lexer": "ipython3",
   "version": "3.7.10"
  },
  "orig_nbformat": 4
 },
 "nbformat": 4,
 "nbformat_minor": 2
}
