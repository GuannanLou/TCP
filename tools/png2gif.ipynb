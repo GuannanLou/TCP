{
 "cells": [
  {
   "cell_type": "code",
   "execution_count": 1,
   "metadata": {},
   "outputs": [
    {
     "name": "stdout",
     "output_type": "stream",
     "text": [
      "/home/guannan/Projects/TCP-Interfuser/tools\n"
     ]
    }
   ],
   "source": [
    "import imageio\n",
    "import os\n",
    "\n",
    "print(os.getcwd())"
   ]
  },
  {
   "cell_type": "code",
   "execution_count": 9,
   "metadata": {},
   "outputs": [
    {
     "name": "stdout",
     "output_type": "stream",
     "text": [
      "/home/guannan/Projects/SBT-data/TCP/2023-11-30|13:46:30--SAVE_IMG/routes_short_11_30_13_46_38//bev\n",
      "/home/guannan/Projects/TCP-Interfuser/tools/gifs/bev_routes_short_11_30_13_46_38.gif\n"
     ]
    }
   ],
   "source": [
    "# for mode in ['bev', 'rgb']:\n",
    "mode = 'bev'\n",
    "# 定义输入文件夹和输出文件名\n",
    "data_folder = '/home/guannan/Projects/SBT-data/TCP/2023-11-30|13:46:30--SAVE_IMG/routes_short_11_30_13_46_38/'\n",
    "# case_folder = \"routes_short_05_15_18_12_10\"\n",
    "\n",
    "input_folder = '{}/{}'.format(data_folder, mode)\n",
    "output_file = '/home/guannan/Projects/TCP-Interfuser/tools/gifs/{}.gif'.format(mode+'_'+data_folder.split('/')[-2])\n",
    "\n",
    "extend = 10\n",
    "\n",
    "print(input_folder)\n",
    "print(output_file)\n",
    "\n",
    "# 获取文件夹中所有PNG文件名，并按照序列号进行排序\n",
    "file_names = os.listdir(input_folder)\n",
    "file_names = sorted([f for f in file_names if f.endswith('.png')], key=lambda x: int(x.split('_')[-1].split('.')[0]))\n",
    "file_names += [file_names[-1]]*extend\n",
    "\n",
    "# 读取PNG文件并将它们添加到GIF文件\n",
    "with imageio.get_writer(output_file, mode='I') as writer:\n",
    "    for file_name in file_names:\n",
    "        image = imageio.imread(os.path.join(input_folder, file_name))\n",
    "        writer.append_data(image)"
   ]
  },
  {
   "attachments": {},
   "cell_type": "markdown",
   "metadata": {},
   "source": []
  },
  {
   "cell_type": "code",
   "execution_count": 1,
   "metadata": {},
   "outputs": [],
   "source": [
    "import numpy as np\n",
    "a = np.array([1,3,23,12,312,3])"
   ]
  },
  {
   "cell_type": "code",
   "execution_count": 5,
   "metadata": {},
   "outputs": [
    {
     "data": {
      "text/plain": [
       "'1,3,23,12,312,3'"
      ]
     },
     "execution_count": 5,
     "metadata": {},
     "output_type": "execute_result"
    }
   ],
   "source": [
    "','.join([str(item) for item in a])"
   ]
  },
  {
   "cell_type": "code",
   "execution_count": 7,
   "metadata": {},
   "outputs": [],
   "source": [
    "output_file = '/home/guannan/Projects/TCP/tools/test.csv'\n",
    "\n",
    "for vec in np.random.rand(10,10):\n",
    "    writer = open(output_file, 'a')\n",
    "    writer.write(','.join([str(item) for item in vec])+'\\n')\n",
    "    writer.close()\n"
   ]
  },
  {
   "cell_type": "code",
   "execution_count": 11,
   "metadata": {},
   "outputs": [
    {
     "name": "stdout",
     "output_type": "stream",
     "text": [
      "45\n",
      "135\n",
      "225\n",
      "315\n",
      "405\n"
     ]
    },
    {
     "ename": "",
     "evalue": "",
     "output_type": "error",
     "traceback": [
      "\u001b[1;31m在当前单元格或上一个单元格中执行代码时 Kernel 崩溃。请查看单元格中的代码，以确定故障的可能原因。有关详细信息，请单击 <a href='https://aka.ms/vscodeJupyterKernelCrash'>此处</a>。有关更多详细信息，请查看 Jupyter <a href='command:jupyter.viewOutput'>log</a>。"
     ]
    }
   ],
   "source": [
    "for i in range(5):\n",
    "    print(45+i*90)"
   ]
  }
 ],
 "metadata": {
  "kernelspec": {
   "display_name": "TCP",
   "language": "python",
   "name": "python3"
  },
  "language_info": {
   "codemirror_mode": {
    "name": "ipython",
    "version": 3
   },
   "file_extension": ".py",
   "mimetype": "text/x-python",
   "name": "python",
   "nbconvert_exporter": "python",
   "pygments_lexer": "ipython3",
   "version": "3.7.10"
  },
  "orig_nbformat": 4
 },
 "nbformat": 4,
 "nbformat_minor": 2
}
