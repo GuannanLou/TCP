{
 "cells": [
  {
   "cell_type": "code",
   "execution_count": 3,
   "metadata": {},
   "outputs": [
    {
     "name": "stdout",
     "output_type": "stream",
     "text": [
      "/home/guannan/Projects/TCP/tools\n"
     ]
    }
   ],
   "source": [
    "import imageio\n",
    "import os\n",
    "\n",
    "print(os.getcwd())"
   ]
  },
  {
   "cell_type": "code",
   "execution_count": 5,
   "metadata": {},
   "outputs": [
    {
     "data": {
      "text/plain": [
       "['routes_short_2023-04-06|16:09:55',\n",
       " 'routes_short_2023-04-06|16:19:14',\n",
       " 'routes_short_2023-04-06|16:24:37',\n",
       " 'routes_short_2023-04-06|16:25:47',\n",
       " 'routes_short_2023-04-06|16:27:09',\n",
       " 'routes_short_2023-04-06|16:32:56',\n",
       " 'routes_short_2023-04-06|16:34:24',\n",
       " 'routes_short_2023-04-06|16:35:57',\n",
       " 'routes_short_2023-04-06|16:39:27',\n",
       " 'routes_short_2023-04-20|16:19:07',\n",
       " 'routes_short_2023-04-20|17:33:59',\n",
       " 'routes_short_2023-04-20|17:38:18',\n",
       " 'routes_short_2023-04-20|17:38:59',\n",
       " 'routes_short_2023-04-20|17:39:19',\n",
       " 'routes_short_2023-04-20|17:40:40',\n",
       " 'routes_short_2023-04-20|17:42:57',\n",
       " 'routes_short_2023-04-20|17:43:34',\n",
       " 'routes_short_2023-04-20|17:44:04',\n",
       " 'routes_short_2023-04-20|17:45:08',\n",
       " 'routes_short_2023-04-20|17:45:40',\n",
       " 'routes_short_2023-04-20|17:46:10',\n",
       " 'routes_short_2023-04-20|17:47:13',\n",
       " 'routes_short_2023-04-20|17:47:34',\n",
       " 'routes_short_2023-04-20|17:48:04',\n",
       " 'routes_short_2023-04-20|17:52:16',\n",
       " 'routes_short_2023-04-20|17:53:02',\n",
       " 'routes_short_2023-04-20|17:53:44',\n",
       " 'routes_short_2023-04-20|17:54:41',\n",
       " 'routes_short_2023-04-20|18:16:18',\n",
       " 'routes_short_2023-04-20|18:16:43',\n",
       " 'routes_short_2023-04-20|18:17:16',\n",
       " 'routes_short_2023-04-20|18:20:40',\n",
       " 'routes_short_2023-04-20|18:21:18',\n",
       " 'routes_short_2023-04-24|13:03:33',\n",
       " 'routes_short_2023-04-24|13:06:00',\n",
       " 'routes_short_2023-04-24|13:08:03',\n",
       " 'routes_short_2023-04-24|13:08:44',\n",
       " 'routes_short_2023-04-24|13:11:04',\n",
       " 'routes_short_2023-04-24|13:12:19',\n",
       " 'routes_short_2023-04-24|13:13:55',\n",
       " 'routes_short_2023-04-24|13:17:19',\n",
       " 'routes_short_2023-04-24|13:53:33',\n",
       " 'routes_short_2023-04-24|13:56:25',\n",
       " 'routes_short_2023-04-24|14:22:14',\n",
       " 'routes_short_2023-04-24|14:23:56',\n",
       " 'routes_short_2023-04-24|14:31:48',\n",
       " 'routes_short_2023-04-24|14:49:16',\n",
       " 'routes_short_2023-04-24|15:03:54',\n",
       " 'routes_short_2023-04-24|15:09:33',\n",
       " 'routes_short_2023-04-24|15:13:08',\n",
       " 'routes_short_2023-04-24|15:28:57',\n",
       " 'routes_short_2023-04-24|15:29:17',\n",
       " 'routes_short_2023-04-24|15:30:27',\n",
       " 'routes_short_2023-04-24|15:32:31',\n",
       " 'routes_short_2023-04-24|15:33:15',\n",
       " 'routes_short_2023-04-24|15:33:36',\n",
       " 'routes_short_2023-04-24|15:36:00',\n",
       " 'routes_short_2023-04-24|15:36:42',\n",
       " 'routes_short_2023-04-24|15:38:14',\n",
       " 'routes_short_2023-04-24|15:39:53',\n",
       " 'routes_short_2023-04-24|15:51:48',\n",
       " 'routes_short_2023-04-24|15:52:37',\n",
       " 'routes_short_2023-04-24|15:53:37',\n",
       " 'routes_short_2023-04-24|15:57:05',\n",
       " 'routes_short_2023-04-24|15:58:08',\n",
       " 'routes_short_2023-04-24|15:59:59',\n",
       " 'routes_short_2023-04-24|16:01:03',\n",
       " 'routes_short_2023-04-24|16:07:56',\n",
       " 'routes_short_2023-04-24|16:08:41',\n",
       " 'routes_short_2023-04-24|16:10:17',\n",
       " 'routes_short_2023-04-24|16:11:13',\n",
       " 'routes_short_2023-04-24|16:13:28',\n",
       " 'routes_short_2023-04-24|16:31:07',\n",
       " 'routes_short_2023-04-24|16:39:28',\n",
       " 'routes_short_2023-04-24|16:41:46',\n",
       " 'routes_short_2023-04-24|16:42:32',\n",
       " 'routes_short_2023-04-24|16:43:25',\n",
       " 'routes_short_2023-04-24|16:47:03',\n",
       " 'routes_short_2023-04-24|17:19:04',\n",
       " 'routes_short_2023-04-24|17:22:30',\n",
       " 'routes_short_2023-04-24|17:24:08',\n",
       " 'routes_short_2023-04-24|17:24:50',\n",
       " 'routes_short_2023-04-24|17:27:07',\n",
       " 'routes_short_2023-04-24|17:27:30',\n",
       " 'routes_short_2023-04-24|17:28:38',\n",
       " 'routes_short_2023-04-24|17:30:44',\n",
       " 'routes_short_2023-04-24|17:45:16',\n",
       " 'routes_short_2023-04-25|14:42:40',\n",
       " 'routes_short_2023-04-25|14:53:14',\n",
       " 'routes_short_2023-04-25|14:54:42',\n",
       " 'routes_short_2023-04-25|14:56:00',\n",
       " 'routes_short_2023-04-25|14:57:29',\n",
       " 'routes_short_2023-04-25|14:58:43',\n",
       " 'routes_short_2023-04-25|14:59:26',\n",
       " 'routes_short_2023-04-25|15:01:52',\n",
       " 'routes_short_2023-04-25|15:03:55',\n",
       " 'routes_short_2023-04-25|15:05:31',\n",
       " 'routes_short_2023-04-25|15:07:59',\n",
       " 'routes_short_2023-04-25|15:09:47',\n",
       " 'routes_short_2023-04-25|15:12:58',\n",
       " 'routes_short_2023-04-25|15:24:38',\n",
       " 'routes_short_2023-04-25|15:25:35',\n",
       " 'routes_short_2023-04-25|15:31:02',\n",
       " 'routes_short_2023-04-25|15:34:44',\n",
       " 'routes_short_2023-04-25|15:39:30',\n",
       " 'routes_short_2023-04-25|15:41:27',\n",
       " 'routes_short_2023-04-25|15:45:02',\n",
       " 'routes_short_2023-04-25|15:49:45',\n",
       " 'routes_short_2023-04-25|16:00:15',\n",
       " 'routes_short_2023-04-25|16:01:43',\n",
       " 'routes_short_2023-04-25|16:02:56',\n",
       " 'routes_short_2023-04-25|16:04:12',\n",
       " 'routes_short_2023-04-25|16:05:35',\n",
       " 'routes_short_2023-04-25|16:06:47',\n",
       " 'routes_short_2023-04-25|16:22:59',\n",
       " 'routes_short_2023-04-25|16:25:03',\n",
       " 'routes_short_2023-04-25|16:28:01',\n",
       " 'routes_short_2023-04-25|16:29:54',\n",
       " 'routes_short_2023-04-25|16:31:54',\n",
       " 'routes_short_2023-04-25|16:33:13',\n",
       " 'routes_short_2023-04-25|16:34:11',\n",
       " 'routes_short_2023-04-25|16:35:26',\n",
       " 'routes_short_2023-04-25|16:37:30',\n",
       " 'routes_short_2023-04-25|16:38:57',\n",
       " 'routes_short_2023-04-25|17:59:42',\n",
       " 'routes_short_2023-04-25|18:23:40',\n",
       " 'routes_short_2023-04-25|18:24:28',\n",
       " 'routes_short_2023-04-25|18:25:09',\n",
       " 'routes_short_2023-04-25|18:25:51',\n",
       " 'routes_short_2023-04-25|18:31:14',\n",
       " 'routes_short_2023-04-25|18:40:18',\n",
       " 'routes_short_2023-04-25|18:42:32',\n",
       " 'routes_short_2023-04-25|18:44:37',\n",
       " 'routes_short_2023-04-25|18:45:25',\n",
       " 'routes_short_2023-04-25|19:02:34',\n",
       " 'routes_short_2023-04-25|19:04:23',\n",
       " 'routes_short_2023-04-25|19:06:32',\n",
       " 'routes_short_2023-04-25|19:07:55',\n",
       " 'routes_short_2023-04-25|19:09:01',\n",
       " 'routes_short_2023-04-25|19:10:54',\n",
       " 'routes_short_2023-04-25|19:55:02',\n",
       " 'routes_short_2023-04-25|19:57:06',\n",
       " 'routes_short_2023-04-25|20:01:06',\n",
       " 'routes_short_2023-04-25|20:02:03',\n",
       " 'routes_short_2023-04-25|20:03:06',\n",
       " 'routes_short_2023-04-25|20:04:07',\n",
       " 'routes_short_2023-04-25|20:06:09',\n",
       " 'routes_short_2023-04-25|20:07:24',\n",
       " 'routes_short_2023-04-25|20:08:17',\n",
       " 'routes_short_2023-04-25|20:09:26',\n",
       " 'routes_short_2023-04-25|20:10:22',\n",
       " 'routes_short_2023-04-25|20:11:17',\n",
       " 'routes_short_2023-04-25|20:12:05',\n",
       " 'routes_short_2023-04-25|20:12:36',\n",
       " 'routes_short_2023-04-25|20:13:11',\n",
       " 'routes_short_2023-04-25|20:14:54',\n",
       " 'routes_short_2023-04-25|20:15:42',\n",
       " 'routes_short_2023-04-25|20:17:05',\n",
       " 'routes_short_2023-04-25|20:17:44',\n",
       " 'routes_short_2023-04-25|20:18:58',\n",
       " 'routes_short_2023-04-25|20:19:53',\n",
       " 'routes_short_2023-04-25|20:20:50',\n",
       " 'routes_short_2023-04-25|20:21:49',\n",
       " 'routes_short_2023-04-25|20:23:27',\n",
       " 'routes_short_2023-04-25|20:24:31',\n",
       " 'routes_short_2023-04-25|20:25:22',\n",
       " 'routes_short_2023-04-26|13:57:01',\n",
       " 'routes_short_2023-04-26|14:26:32',\n",
       " 'routes_short_2023-04-26|14:28:37',\n",
       " 'routes_short_2023-04-26|14:29:42',\n",
       " 'routes_short_2023-04-26|14:31:27',\n",
       " 'routes_short_2023-04-26|14:42:25',\n",
       " 'routes_short_2023-04-26|14:47:07',\n",
       " 'routes_short_2023-04-26|14:50:27',\n",
       " 'routes_short_2023-04-26|14:54:30',\n",
       " 'routes_short_2023-04-26|15:03:37',\n",
       " 'routes_short_2023-04-26|15:21:58',\n",
       " 'routes_short_2023-04-26|16:03:26',\n",
       " 'routes_short_2023-04-26|16:06:18',\n",
       " 'routes_short_2023-04-26|16:10:56',\n",
       " 'routes_short_2023-04-26|16:12:25',\n",
       " 'routes_short_2023-04-26|16:25:30',\n",
       " 'routes_short_2023-04-26|16:25:56',\n",
       " 'routes_short_2023-04-26|16:28:51',\n",
       " 'routes_short_2023-04-26|16:31:58',\n",
       " 'routes_short_2023-04-26|16:35:04',\n",
       " 'routes_short_2023-04-26|16:39:03',\n",
       " 'routes_short_2023-04-26|16:41:25',\n",
       " 'routes_short_2023-04-26|16:43:11',\n",
       " 'routes_short_2023-04-26|16:44:13',\n",
       " 'routes_short_2023-04-26|17:22:08',\n",
       " 'routes_short_2023-04-26|17:24:46',\n",
       " 'routes_short_2023-04-26|17:28:31']"
      ]
     },
     "execution_count": 5,
     "metadata": {},
     "output_type": "execute_result"
    }
   ],
   "source": [
    "a = os.listdir('/home/guannan/Projects/TCP/data/')\n",
    "a.sort()\n",
    "a"
   ]
  },
  {
   "cell_type": "code",
   "execution_count": 9,
   "metadata": {},
   "outputs": [
    {
     "data": {
      "text/plain": [
       "['routes_short_04_26_17_28_39', 'fitness.csv']"
      ]
     },
     "execution_count": 9,
     "metadata": {},
     "output_type": "execute_result"
    }
   ],
   "source": [
    "os.listdir('{}/{}'.format(data_folder, log_folder))"
   ]
  },
  {
   "cell_type": "code",
   "execution_count": 11,
   "metadata": {},
   "outputs": [
    {
     "name": "stdout",
     "output_type": "stream",
     "text": [
      "/home/guannan/Projects/TCP/data/routes_short_2023-04-26|17:28:31/routes_short_04_26_17_28_39/bev\n",
      "/home/guannan/Projects/TCP/tools/bev.gif\n",
      "/home/guannan/Projects/TCP/data/routes_short_2023-04-26|17:28:31/routes_short_04_26_17_28_39/rgb\n",
      "/home/guannan/Projects/TCP/tools/rgb.gif\n"
     ]
    }
   ],
   "source": [
    "for mode in ['bev', 'rgb']:\n",
    "    # 定义输入文件夹和输出文件名\n",
    "    data_folder = '/home/guannan/Projects/TCP/data'\n",
    "    log_folders = os.listdir(data_folder)\n",
    "    log_folders.sort()\n",
    "    log_folder = log_folders[-1]\n",
    "\n",
    "    input_folder = '{}/{}/{}/{}'.format(data_folder, log_folder, os.listdir('{}/{}'.format(data_folder, log_folder))[0], mode)\n",
    "    output_file = '/home/guannan/Projects/TCP/tools/{}.gif'.format(mode)\n",
    "\n",
    "\n",
    "    print(input_folder)\n",
    "    print(output_file)\n",
    "\n",
    "    # 获取文件夹中所有PNG文件名，并按照序列号进行排序\n",
    "    file_names = os.listdir(input_folder)\n",
    "    file_names = sorted([f for f in file_names if f.endswith('.png')], key=lambda x: int(x.split('_')[-1].split('.')[0]))\n",
    "\n",
    "    # 读取PNG文件并将它们添加到GIF文件\n",
    "    with imageio.get_writer(output_file, mode='I') as writer:\n",
    "        for file_name in file_names:\n",
    "            image = imageio.imread(os.path.join(input_folder, file_name))\n",
    "            writer.append_data(image)"
   ]
  },
  {
   "cell_type": "code",
   "execution_count": 1,
   "metadata": {},
   "outputs": [],
   "source": [
    "import numpy as np\n",
    "a = np.array([1,3,23,12,312,3])"
   ]
  },
  {
   "cell_type": "code",
   "execution_count": 5,
   "metadata": {},
   "outputs": [
    {
     "data": {
      "text/plain": [
       "'1,3,23,12,312,3'"
      ]
     },
     "execution_count": 5,
     "metadata": {},
     "output_type": "execute_result"
    }
   ],
   "source": [
    "','.join([str(item) for item in a])"
   ]
  },
  {
   "cell_type": "code",
   "execution_count": 7,
   "metadata": {},
   "outputs": [],
   "source": [
    "output_file = '/home/guannan/Projects/TCP/tools/test.csv'\n",
    "\n",
    "for vec in np.random.rand(10,10):\n",
    "    writer = open(output_file, 'a')\n",
    "    writer.write(','.join([str(item) for item in vec])+'\\n')\n",
    "    writer.close()\n"
   ]
  },
  {
   "cell_type": "code",
   "execution_count": 11,
   "metadata": {},
   "outputs": [
    {
     "name": "stdout",
     "output_type": "stream",
     "text": [
      "45\n",
      "135\n",
      "225\n",
      "315\n",
      "405\n"
     ]
    }
   ],
   "source": [
    "for i in range(5):\n",
    "    print(45+i*90)"
   ]
  }
 ],
 "metadata": {
  "kernelspec": {
   "display_name": "TCP",
   "language": "python",
   "name": "python3"
  },
  "language_info": {
   "codemirror_mode": {
    "name": "ipython",
    "version": 3
   },
   "file_extension": ".py",
   "mimetype": "text/x-python",
   "name": "python",
   "nbconvert_exporter": "python",
   "pygments_lexer": "ipython3",
   "version": "3.7.10"
  },
  "orig_nbformat": 4
 },
 "nbformat": 4,
 "nbformat_minor": 2
}
